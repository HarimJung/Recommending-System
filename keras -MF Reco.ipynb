{
 "cells": [
  {
   "cell_type": "markdown",
   "metadata": {},
   "source": [
    "# 추천시스템 설명\n",
    "https://datascienceschool.net/view-notebook/fcd3550f11ac4537acec8d18136f2066/\n",
    "#https://yamalab.tistory.com/69"
   ]
  },
  {
   "cell_type": "markdown",
   "metadata": {},
   "source": [
    "# MF Recommender 구현"
   ]
  },
  {
   "cell_type": "code",
   "execution_count": 8,
   "metadata": {},
   "outputs": [],
   "source": [
    "import pandas as pd\n",
    "import numpy as np \n",
    "import matplotlib.pyplot as plt\n",
    "import warnings\n",
    "warnings.filterwarnings(\"ignore\")\n"
   ]
  },
  {
   "cell_type": "code",
   "execution_count": 24,
   "metadata": {},
   "outputs": [],
   "source": [
    "from numpy import array\n",
    "from numpy import asarray\n",
    "from numpy import zeros\n",
    "from keras.preprocessing.text import Tokenizer\n",
    "from keras.preprocessing.sequence import pad_sequences\n",
    "from keras.models import Sequential\n",
    "from keras.layers import Dense\n",
    "from keras.layers import Flatten\n",
    "from keras.layers import Embedding\n",
    "import numpy as np\n",
    "import math\n"
   ]
  },
  {
   "cell_type": "code",
   "execution_count": 15,
   "metadata": {},
   "outputs": [
    {
     "data": {
      "text/html": [
       "<div>\n",
       "<style scoped>\n",
       "    .dataframe tbody tr th:only-of-type {\n",
       "        vertical-align: middle;\n",
       "    }\n",
       "\n",
       "    .dataframe tbody tr th {\n",
       "        vertical-align: top;\n",
       "    }\n",
       "\n",
       "    .dataframe thead th {\n",
       "        text-align: right;\n",
       "    }\n",
       "</style>\n",
       "<table border=\"1\" class=\"dataframe\">\n",
       "  <thead>\n",
       "    <tr style=\"text-align: right;\">\n",
       "      <th></th>\n",
       "      <th>user_id</th>\n",
       "      <th>item_id</th>\n",
       "      <th>rating</th>\n",
       "      <th>timestamp</th>\n",
       "    </tr>\n",
       "  </thead>\n",
       "  <tbody>\n",
       "    <tr>\n",
       "      <th>0</th>\n",
       "      <td>196</td>\n",
       "      <td>242</td>\n",
       "      <td>3</td>\n",
       "      <td>881250949</td>\n",
       "    </tr>\n",
       "    <tr>\n",
       "      <th>1</th>\n",
       "      <td>186</td>\n",
       "      <td>302</td>\n",
       "      <td>3</td>\n",
       "      <td>891717742</td>\n",
       "    </tr>\n",
       "    <tr>\n",
       "      <th>2</th>\n",
       "      <td>22</td>\n",
       "      <td>377</td>\n",
       "      <td>1</td>\n",
       "      <td>878887116</td>\n",
       "    </tr>\n",
       "    <tr>\n",
       "      <th>3</th>\n",
       "      <td>244</td>\n",
       "      <td>51</td>\n",
       "      <td>2</td>\n",
       "      <td>880606923</td>\n",
       "    </tr>\n",
       "    <tr>\n",
       "      <th>4</th>\n",
       "      <td>166</td>\n",
       "      <td>346</td>\n",
       "      <td>1</td>\n",
       "      <td>886397596</td>\n",
       "    </tr>\n",
       "  </tbody>\n",
       "</table>\n",
       "</div>"
      ],
      "text/plain": [
       "   user_id  item_id  rating  timestamp\n",
       "0      196      242       3  881250949\n",
       "1      186      302       3  891717742\n",
       "2       22      377       1  878887116\n",
       "3      244       51       2  880606923\n",
       "4      166      346       1  886397596"
      ]
     },
     "execution_count": 15,
     "metadata": {},
     "output_type": "execute_result"
    }
   ],
   "source": [
    "dataset=pd.read_csv(\"us5500.data\", sep=\"\\t\",names=[\"user_id\",\"item_id\",\"rating\",\"timestamp\"])\n",
    "dataset.head()\n",
    "#len(dataset.user_id)"
   ]
  },
  {
   "cell_type": "code",
   "execution_count": 21,
   "metadata": {},
   "outputs": [
    {
     "data": {
      "text/plain": [
       "342"
      ]
     },
     "execution_count": 21,
     "metadata": {},
     "output_type": "execute_result"
    }
   ],
   "source": [
    "# so same! like nunique 랑 unique len\n",
    "# len(dataset.user_id.unique())\n",
    "dataset.user_id.nunique()"
   ]
  },
  {
   "cell_type": "markdown",
   "metadata": {},
   "source": [
    "# datatype을 원핫 인코딩으로 바꾼 것 이다.\n",
    "#유니크한 user_id를 가져와서"
   ]
  },
  {
   "cell_type": "code",
   "execution_count": 16,
   "metadata": {},
   "outputs": [
    {
     "data": {
      "text/html": [
       "<div>\n",
       "<style scoped>\n",
       "    .dataframe tbody tr th:only-of-type {\n",
       "        vertical-align: middle;\n",
       "    }\n",
       "\n",
       "    .dataframe tbody tr th {\n",
       "        vertical-align: top;\n",
       "    }\n",
       "\n",
       "    .dataframe thead th {\n",
       "        text-align: right;\n",
       "    }\n",
       "</style>\n",
       "<table border=\"1\" class=\"dataframe\">\n",
       "  <thead>\n",
       "    <tr style=\"text-align: right;\">\n",
       "      <th></th>\n",
       "      <th>user_id</th>\n",
       "      <th>item_id</th>\n",
       "      <th>rating</th>\n",
       "      <th>timestamp</th>\n",
       "    </tr>\n",
       "  </thead>\n",
       "  <tbody>\n",
       "    <tr>\n",
       "      <th>0</th>\n",
       "      <td>194</td>\n",
       "      <td>233</td>\n",
       "      <td>3</td>\n",
       "      <td>881250949</td>\n",
       "    </tr>\n",
       "    <tr>\n",
       "      <th>1</th>\n",
       "      <td>184</td>\n",
       "      <td>291</td>\n",
       "      <td>3</td>\n",
       "      <td>891717742</td>\n",
       "    </tr>\n",
       "    <tr>\n",
       "      <th>2</th>\n",
       "      <td>21</td>\n",
       "      <td>361</td>\n",
       "      <td>1</td>\n",
       "      <td>878887116</td>\n",
       "    </tr>\n",
       "    <tr>\n",
       "      <th>3</th>\n",
       "      <td>242</td>\n",
       "      <td>47</td>\n",
       "      <td>2</td>\n",
       "      <td>880606923</td>\n",
       "    </tr>\n",
       "    <tr>\n",
       "      <th>4</th>\n",
       "      <td>164</td>\n",
       "      <td>334</td>\n",
       "      <td>1</td>\n",
       "      <td>886397596</td>\n",
       "    </tr>\n",
       "  </tbody>\n",
       "</table>\n",
       "</div>"
      ],
      "text/plain": [
       "   user_id  item_id  rating  timestamp\n",
       "0      194      233       3  881250949\n",
       "1      184      291       3  891717742\n",
       "2       21      361       1  878887116\n",
       "3      242       47       2  880606923\n",
       "4      164      334       1  886397596"
      ]
     },
     "execution_count": 16,
     "metadata": {},
     "output_type": "execute_result"
    }
   ],
   "source": [
    "dataset.user_id=dataset.user_id.astype(\"category\").cat.codes.values\n",
    "dataset.item_id=dataset.item_id.astype(\"category\").cat.codes.values\n",
    "dataset.head()"
   ]
  },
  {
   "cell_type": "markdown",
   "metadata": {},
   "source": [
    "# train 과 test split!"
   ]
  },
  {
   "cell_type": "code",
   "execution_count": 22,
   "metadata": {},
   "outputs": [
    {
     "name": "stdout",
     "output_type": "stream",
     "text": [
      "1852    172\n",
      "1019    237\n",
      "4168    310\n",
      "3001     90\n",
      "595     267\n",
      "3780    281\n",
      "432     220\n",
      "213     179\n",
      "4890    232\n",
      "1068    174\n",
      "330     126\n",
      "272     298\n",
      "1418    232\n",
      "1000    310\n",
      "1519    174\n",
      "5105    248\n",
      "2238     25\n",
      "5381    273\n",
      "3928    220\n",
      "95      117\n",
      "4724    283\n",
      "36      179\n",
      "4642     60\n",
      "2719    212\n",
      "390      20\n",
      "1088     85\n",
      "4909     82\n",
      "3934    195\n",
      "2176    179\n",
      "1209     92\n",
      "       ... \n",
      "1607    269\n",
      "2389    266\n",
      "3900    192\n",
      "531     127\n",
      "3119    312\n",
      "2518    172\n",
      "3958    181\n",
      "553     228\n",
      "965     184\n",
      "2461     14\n",
      "937       6\n",
      "2893    269\n",
      "2375    230\n",
      "3023    294\n",
      "3239     99\n",
      "4863    100\n",
      "4649    215\n",
      "2707    302\n",
      "3495    142\n",
      "3670     71\n",
      "3787    156\n",
      "2531    145\n",
      "1158    141\n",
      "3114     12\n",
      "2988    187\n",
      "693     232\n",
      "864     102\n",
      "3258    117\n",
      "1329      3\n",
      "2529    295\n",
      "Name: user_id, Length: 4400, dtype: int16\n"
     ]
    }
   ],
   "source": [
    "from sklearn.model_selection import train_test_split\n",
    "train,test=train_test_split(dataset,test_size=0.2)\n",
    "\n",
    "print(train.user_id)"
   ]
  },
  {
   "cell_type": "markdown",
   "metadata": {},
   "source": [
    "# keras 이용 해서 하이브리드 모델 생성"
   ]
  },
  {
   "cell_type": "code",
   "execution_count": 58,
   "metadata": {},
   "outputs": [],
   "source": [
    "import keras\n",
    "from keras.models import Model\n",
    "\n",
    "n_users, n_movies= len(dataset.user_id.unique()), len(dataset.item_id.unique())\n",
    "n_latent_factors=3"
   ]
  },
  {
   "cell_type": "code",
   "execution_count": 59,
   "metadata": {},
   "outputs": [
    {
     "name": "stdout",
     "output_type": "stream",
     "text": [
      "__________________________________________________________________________________________________\n",
      "Layer (type)                    Output Shape         Param #     Connected to                     \n",
      "==================================================================================================\n",
      "item (InputLayer)               (None, 1)            0                                            \n",
      "__________________________________________________________________________________________________\n",
      "User (InputLayer)               (None, 1)            0                                            \n",
      "__________________________________________________________________________________________________\n",
      "Movie-Embedding (Embedding)     (None, 1, 3)         3288        item[0][0]                       \n",
      "__________________________________________________________________________________________________\n",
      "User-Embedding (Embedding)      (None, 1, 3)         1029        User[0][0]                       \n",
      "__________________________________________________________________________________________________\n",
      "FlattenMovies (Flatten)         (None, 3)            0           Movie-Embedding[0][0]            \n",
      "__________________________________________________________________________________________________\n",
      "Flatten (Flatten)               (None, 3)            0           User-Embedding[0][0]             \n",
      "__________________________________________________________________________________________________\n",
      "DotProduct (Dot)                (None, 1)            0           FlattenMovies[0][0]              \n",
      "                                                                 Flatten[0][0]                    \n",
      "==================================================================================================\n",
      "Total params: 4,317\n",
      "Trainable params: 4,317\n",
      "Non-trainable params: 0\n",
      "__________________________________________________________________________________________________\n"
     ]
    }
   ],
   "source": [
    "movie_input=keras.layers.Input(shape=[1],name=\"item\")\n",
    "\n",
    "movie_embedding=keras.layers.Embedding(n_movies+1, n_latent_factors, name=\"Movie-Embedding\")(movie_input) # input 으로 받아서 embedding 넘김\n",
    "movie_vec=keras.layers.Flatten(name=\"FlattenMovies\")(movie_embedding)\n",
    "\n",
    "\n",
    "user_input=keras.layers.Input(shape=[1],name=\"User\")\n",
    "\n",
    "user_embedding=keras.layers.Embedding(n_users+1, n_latent_factors, name=\"User-Embedding\")(user_input)\n",
    "user_vec=keras.layers.Flatten(name=\"Flatten\")(user_embedding)\n",
    "\n",
    "# 두개의 노드 합치기\n",
    "prod=keras.layers.dot([movie_vec,user_vec], axes=1,normalize=False, name=\"DotProduct\")\n",
    "\n",
    "model=Model([user_input,movie_input],prod)\n",
    "model.compile(\"adam\",\"mean_squared_error\")\n",
    "model.summary()"
   ]
  },
  {
   "cell_type": "markdown",
   "metadata": {},
   "source": [
    "# Non-Negative"
   ]
  },
  {
   "cell_type": "code",
   "execution_count": 55,
   "metadata": {},
   "outputs": [
    {
     "name": "stdout",
     "output_type": "stream",
     "text": [
      "__________________________________________________________________________________________________\n",
      "Layer (type)                    Output Shape         Param #     Connected to                     \n",
      "==================================================================================================\n",
      "item (InputLayer)               (None, 1)            0                                            \n",
      "__________________________________________________________________________________________________\n",
      "User (InputLayer)               (None, 1)            0                                            \n",
      "__________________________________________________________________________________________________\n",
      "NonNegMovie-Embedding (Embeddin (None, 1, 3)         3288        item[0][0]                       \n",
      "__________________________________________________________________________________________________\n",
      "NonNegUser-Embedding (Embedding (None, 1, 3)         1029        User[0][0]                       \n",
      "__________________________________________________________________________________________________\n",
      "FlattenMovies (Flatten)         (None, 3)            0           NonNegMovie-Embedding[0][0]      \n",
      "__________________________________________________________________________________________________\n",
      "Flatten (Flatten)               (None, 3)            0           NonNegUser-Embedding[0][0]       \n",
      "__________________________________________________________________________________________________\n",
      "DotProduct (Dot)                (None, 1)            0           FlattenMovies[0][0]              \n",
      "                                                                 Flatten[0][0]                    \n",
      "==================================================================================================\n",
      "Total params: 4,317\n",
      "Trainable params: 4,317\n",
      "Non-trainable params: 0\n",
      "__________________________________________________________________________________________________\n"
     ]
    }
   ],
   "source": [
    "import keras\n",
    "from keras.models import Model\n",
    "from keras.constraints import non_neg\n",
    "\n",
    "n_users, n_movies= len(dataset.user_id.unique()), len(dataset.item_id.unique())\n",
    "n_latent_factors=3\n",
    "\n",
    "movie_input=keras.layers.Input(shape=[1],name=\"item\")\n",
    "\n",
    "movie_embedding=keras.layers.Embedding(n_movies+1, n_latent_factors, name=\"NonNegMovie-Embedding\", embeddings_constraint=non_neg)(movie_input) # input 으로 받아서 embedding 넘김\n",
    "movie_vec=keras.layers.Flatten(name=\"FlattenMovies\")(movie_embedding)\n",
    "\n",
    "\n",
    "user_input=keras.layers.Input(shape=[1],name=\"User\")\n",
    "\n",
    "user_embedding=keras.layers.Embedding(n_users+1, n_latent_factors, name=\"NonNegUser-Embedding\",embeddings_constraint=non_neg)(user_input)\n",
    "user_vec=keras.layers.Flatten(name=\"Flatten\")(user_embedding)\n",
    "\n",
    "# 두개의 노드 합치기\n",
    "prod=keras.layers.dot([movie_vec,user_vec], axes=1,normalize=False, name=\"DotProduct\")\n",
    "\n",
    "model=Model([user_input,movie_input],prod)\n",
    "model.compile(\"adam\",\"mean_squared_error\")\n",
    "model.summary()"
   ]
  },
  {
   "cell_type": "code",
   "execution_count": 60,
   "metadata": {},
   "outputs": [
    {
     "name": "stdout",
     "output_type": "stream",
     "text": [
      "1.6254545454545455\n"
     ]
    }
   ],
   "source": [
    "history=model.fit([train.user_id,train.item_id], train.rating, epochs=50, verbose=0)\n",
    "\n",
    "y_hat=np.round(model.predict([test.user_id, test.item_id]),0)\n",
    "y_true=test.rating\n",
    "\n",
    "from sklearn.metrics import mean_absolute_error\n",
    "print(mean_absolute_error(y_true,y_hat))"
   ]
  },
  {
   "cell_type": "markdown",
   "metadata": {},
   "source": [
    "# train 에 있는 데이터를 validation으로 나눈다."
   ]
  },
  {
   "cell_type": "code",
   "execution_count": 61,
   "metadata": {},
   "outputs": [
    {
     "name": "stdout",
     "output_type": "stream",
     "text": [
      "1.4072727272727272\n"
     ]
    },
    {
     "data": {
      "image/png": "[encoded data removed]",
      "text/plain": [
       "<Figure size 432x288 with 1 Axes>"
      ]
     },
     "metadata": {
      "needs_background": "light"
     },
     "output_type": "display_data"
    }
   ],
   "source": [
    "history=model.fit([train.user_id,train.item_id], train.rating,validation_split=0.2 ,epochs=50, verbose=0)\n",
    "y_vloss=history.history[\"val_loss\"]\n",
    "y_loss=history.history[\"loss\"]\n",
    "\n",
    "x_len=np.arange(len(y_loss))\n",
    "plt.plot(x_len,y_vloss,marker=\".\", c=\"red\", label=\"Validation-set loss\")\n",
    "plt.plot(x_len,y_loss,marker=\".\", c=\"blue\", label=\"Train-set loss\")\n",
    "\n",
    "\n",
    "plt.legend(loc=\"upper right\")\n",
    "plt.grid()\n",
    "plt.xlabel(\"epoch\")\n",
    "plt.ylabel(\"loss\")\n",
    "\n",
    "y_hat=np.round(model.predict([test.user_id, test.item_id]),0)\n",
    "y_true=test.rating\n",
    "from sklearn.metrics import mean_absolute_error\n",
    "print(mean_absolute_error(y_true,y_hat))"
   ]
  },
  {
   "cell_type": "markdown",
   "metadata": {},
   "source": [
    "# 2. Nearal CF 사용하여 추천시스템"
   ]
  },
  {
   "cell_type": "markdown",
   "metadata": {},
   "source": [
    "#convolution 층과 fully-connected 층은 개념이 상반된다.\n",
    "#완전연결, 모든 노드들이 = Dense\n",
    "#convoultion 층은 필터로 연결 일부만 연결된다.필터를 통해서 필터링, 가중치의 갯수를 줄이는 개념. 대신에 깊게 쌓겠다.\n",
    "\n",
    "#flatten 과 Dense의 차이??Flatten은 한줄로 연결이고 Dense= 풀리 커넥티드 층.\n",
    "\n",
    "\n",
    "#3개의 은닉층을 가진 MLP를 사용\n"
   ]
  },
  {
   "cell_type": "markdown",
   "metadata": {},
   "source": [
    "# NCF recommender"
   ]
  },
  {
   "cell_type": "code",
   "execution_count": 63,
   "metadata": {},
   "outputs": [],
   "source": [
    "import pandas as pd\n",
    "import numpy as np \n",
    "import matplotlib.pyplot as plt\n",
    "import warnings\n",
    "warnings.filterwarnings(\"ignore\")"
   ]
  },
  {
   "cell_type": "code",
   "execution_count": 64,
   "metadata": {},
   "outputs": [],
   "source": [
    "dataset=pd.read_csv(\"us5500.data\",sep=\"\\t\",names=[\"user_id\",\"item_id\",\"rating\",\"timestamp\"])"
   ]
  },
  {
   "cell_type": "code",
   "execution_count": 65,
   "metadata": {},
   "outputs": [
    {
     "data": {
      "text/html": [
       "<div>\n",
       "<style scoped>\n",
       "    .dataframe tbody tr th:only-of-type {\n",
       "        vertical-align: middle;\n",
       "    }\n",
       "\n",
       "    .dataframe tbody tr th {\n",
       "        vertical-align: top;\n",
       "    }\n",
       "\n",
       "    .dataframe thead th {\n",
       "        text-align: right;\n",
       "    }\n",
       "</style>\n",
       "<table border=\"1\" class=\"dataframe\">\n",
       "  <thead>\n",
       "    <tr style=\"text-align: right;\">\n",
       "      <th></th>\n",
       "      <th>user_id</th>\n",
       "      <th>item_id</th>\n",
       "      <th>rating</th>\n",
       "      <th>timestamp</th>\n",
       "    </tr>\n",
       "  </thead>\n",
       "  <tbody>\n",
       "    <tr>\n",
       "      <th>0</th>\n",
       "      <td>194</td>\n",
       "      <td>233</td>\n",
       "      <td>3</td>\n",
       "      <td>881250949</td>\n",
       "    </tr>\n",
       "    <tr>\n",
       "      <th>1</th>\n",
       "      <td>184</td>\n",
       "      <td>291</td>\n",
       "      <td>3</td>\n",
       "      <td>891717742</td>\n",
       "    </tr>\n",
       "    <tr>\n",
       "      <th>2</th>\n",
       "      <td>21</td>\n",
       "      <td>361</td>\n",
       "      <td>1</td>\n",
       "      <td>878887116</td>\n",
       "    </tr>\n",
       "    <tr>\n",
       "      <th>3</th>\n",
       "      <td>242</td>\n",
       "      <td>47</td>\n",
       "      <td>2</td>\n",
       "      <td>880606923</td>\n",
       "    </tr>\n",
       "    <tr>\n",
       "      <th>4</th>\n",
       "      <td>164</td>\n",
       "      <td>334</td>\n",
       "      <td>1</td>\n",
       "      <td>886397596</td>\n",
       "    </tr>\n",
       "  </tbody>\n",
       "</table>\n",
       "</div>"
      ],
      "text/plain": [
       "   user_id  item_id  rating  timestamp\n",
       "0      194      233       3  881250949\n",
       "1      184      291       3  891717742\n",
       "2       21      361       1  878887116\n",
       "3      242       47       2  880606923\n",
       "4      164      334       1  886397596"
      ]
     },
     "execution_count": 65,
     "metadata": {},
     "output_type": "execute_result"
    }
   ],
   "source": [
    "dataset.user_id=dataset.user_id.astype(\"category\").cat.codes.values\n",
    "dataset.item_id=dataset.item_id.astype(\"category\").cat.codes.values\n",
    "dataset.head()"
   ]
  },
  {
   "cell_type": "code",
   "execution_count": 67,
   "metadata": {},
   "outputs": [],
   "source": [
    "from sklearn.model_selection import train_test_split\n",
    "train,test=train_test_split(dataset,test_size=0.2)"
   ]
  },
  {
   "cell_type": "code",
   "execution_count": 72,
   "metadata": {},
   "outputs": [
    {
     "name": "stderr",
     "output_type": "stream",
     "text": [
      "W0821 16:24:02.796692 14072 deprecation.py:506] From C:\\Users\\Affinity\\Anaconda3\\lib\\site-packages\\keras\\backend\\tensorflow_backend.py:3445: calling dropout (from tensorflow.python.ops.nn_ops) with keep_prob is deprecated and will be removed in a future version.\n",
      "Instructions for updating:\n",
      "Please use `rate` instead of `keep_prob`. Rate should be set to `rate = 1 - keep_prob`.\n"
     ]
    }
   ],
   "source": [
    "import keras\n",
    "from keras.optimizers import Adam\n",
    "from keras.models import Model\n",
    "\n",
    "# 이때 차원의 수를 나눠줌, 인풋이 하이브리드\n",
    "n_users, n_movies= len(dataset.user_id.unique()), len(dataset.item_id.unique())\n",
    "n_latent_factors=3\n",
    "\n",
    "movie_input=keras.layers.Input(shape=[1],name=\"item\")\n",
    "movie_embedding=keras.layers.Embedding(n_movies+1, n_latent_factors, name=\"NonNegMovie-Embedding\")(movie_input) # input 으로 받아서 embedding 넘김\n",
    "movie_vec=keras.layers.Flatten(name=\"FlattenMovies\")(movie_embedding)\n",
    "movie_vec=keras.layers.Dropout(0.2)(movie_vec)\n",
    "\n",
    "user_input=keras.layers.Input(shape=[1],name=\"User\")\n",
    "user_embedding=keras.layers.Embedding(n_users+1, n_latent_factors, name=\"NonNegUser-Embedding\")(user_input)\n",
    "user_vec=keras.layers.Flatten(name=\"Flatten\")(user_embedding)\n",
    "user_vec=keras.layers.Dropout(0.2)(user_vec)"
   ]
  },
  {
   "cell_type": "code",
   "execution_count": 78,
   "metadata": {},
   "outputs": [],
   "source": [
    "from keras.layers  import concatenate\n",
    "concat=concatenate([movie_vec,user_vec],name=\"Concat\")\n",
    "\n",
    "layer_1 = keras.layers.Dense(20,name='FullyConnected')(concat)\n",
    "dropout_1 = keras.layers.Dropout(0.2,name='Dropout_1')(layer_1)\n",
    "\n",
    "layer_2 = keras.layers.Dense(10,name='FullyConnected-1')(dropout_1)\n",
    "dropout_2 = keras.layers.Dropout(0.2,name='Dropout_2')(layer_2)\n",
    "\n",
    "layer_3 = keras.layers.Dense(5,name='FullyConnected-2')(dropout_2)\n",
    "dropout_3 = keras.layers.Dropout(0.2,name='Dropout_3')(layer_3)\n",
    "\n",
    "layer_4 = keras.layers.Dense(3,name='FullyConnected-3', activation='relu')(dropout_3)"
   ]
  },
  {
   "cell_type": "code",
   "execution_count": 79,
   "metadata": {},
   "outputs": [
    {
     "name": "stdout",
     "output_type": "stream",
     "text": [
      "__________________________________________________________________________________________________\n",
      "Layer (type)                    Output Shape         Param #     Connected to                     \n",
      "==================================================================================================\n",
      "item (InputLayer)               (None, 1)            0                                            \n",
      "__________________________________________________________________________________________________\n",
      "User (InputLayer)               (None, 1)            0                                            \n",
      "__________________________________________________________________________________________________\n",
      "NonNegMovie-Embedding (Embeddin (None, 1, 3)         3288        item[0][0]                       \n",
      "__________________________________________________________________________________________________\n",
      "NonNegUser-Embedding (Embedding (None, 1, 3)         1029        User[0][0]                       \n",
      "__________________________________________________________________________________________________\n",
      "FlattenMovies (Flatten)         (None, 3)            0           NonNegMovie-Embedding[0][0]      \n",
      "__________________________________________________________________________________________________\n",
      "Flatten (Flatten)               (None, 3)            0           NonNegUser-Embedding[0][0]       \n",
      "__________________________________________________________________________________________________\n",
      "dropout_1 (Dropout)             (None, 3)            0           FlattenMovies[0][0]              \n",
      "__________________________________________________________________________________________________\n",
      "dropout_2 (Dropout)             (None, 3)            0           Flatten[0][0]                    \n",
      "__________________________________________________________________________________________________\n",
      "Concat (Concatenate)            (None, 6)            0           dropout_1[0][0]                  \n",
      "                                                                 dropout_2[0][0]                  \n",
      "__________________________________________________________________________________________________\n",
      "FullyConnected (Dense)          (None, 20)           140         Concat[0][0]                     \n",
      "__________________________________________________________________________________________________\n",
      "Dropout_1 (Dropout)             (None, 20)           0           FullyConnected[0][0]             \n",
      "__________________________________________________________________________________________________\n",
      "FullyConnected-1 (Dense)        (None, 10)           210         Dropout_1[0][0]                  \n",
      "__________________________________________________________________________________________________\n",
      "Dropout_2 (Dropout)             (None, 10)           0           FullyConnected-1[0][0]           \n",
      "__________________________________________________________________________________________________\n",
      "FullyConnected-2 (Dense)        (None, 5)            55          Dropout_2[0][0]                  \n",
      "__________________________________________________________________________________________________\n",
      "Dropout_3 (Dropout)             (None, 5)            0           FullyConnected-2[0][0]           \n",
      "__________________________________________________________________________________________________\n",
      "FullyConnected-3 (Dense)        (None, 3)            18          Dropout_3[0][0]                  \n",
      "__________________________________________________________________________________________________\n",
      "Activation (Dense)              (None, 1)            4           FullyConnected-3[0][0]           \n",
      "==================================================================================================\n",
      "Total params: 4,744\n",
      "Trainable params: 4,744\n",
      "Non-trainable params: 0\n",
      "__________________________________________________________________________________________________\n"
     ]
    }
   ],
   "source": [
    "result=keras.layers.Dense(1,activation=\"relu\", name=\"Activation\")(layer_4)\n",
    "adam=Adam(lr=0.005)\n",
    "model=Model([user_input,movie_input],result)\n",
    "model.compile(optimizer=adam,loss=\"mean_absolute_error\")\n",
    "\n",
    "model.summary()"
   ]
  },
  {
   "cell_type": "code",
   "execution_count": 80,
   "metadata": {},
   "outputs": [
    {
     "name": "stdout",
     "output_type": "stream",
     "text": [
      "0.8263636363636364\n"
     ]
    },
    {
     "data": {
      "image/png": "[encoded data removed]",
      "text/plain": [
       "<Figure size 432x288 with 1 Axes>"
      ]
     },
     "metadata": {
      "needs_background": "light"
     },
     "output_type": "display_data"
    }
   ],
   "source": [
    "history=model.fit([train.user_id,train.item_id], train.rating,validation_split=0.2 ,epochs=50, verbose=0)\n",
    "y_vloss=history.history[\"val_loss\"]\n",
    "y_loss=history.history[\"loss\"]\n",
    "\n",
    "x_len=np.arange(len(y_loss))\n",
    "plt.plot(x_len,y_vloss,marker=\".\", c=\"red\", label=\"Validation-set loss\")\n",
    "plt.plot(x_len,y_loss,marker=\".\", c=\"blue\", label=\"Train-set loss\")\n",
    "\n",
    "\n",
    "plt.legend(loc=\"upper right\")\n",
    "plt.grid()\n",
    "plt.xlabel(\"epoch\")\n",
    "plt.ylabel(\"loss\")\n",
    "\n",
    "y_hat=np.round(model.predict([test.user_id, test.item_id]),0)\n",
    "y_true=test.rating\n",
    "from sklearn.metrics import mean_absolute_error\n",
    "print(mean_absolute_error(y_true,y_hat))"
   ]
  },
  {
   "cell_type": "markdown",
   "metadata": {},
   "source": [
    "# Batchnormalization"
   ]
  },
  {
   "cell_type": "code",
   "execution_count": 82,
   "metadata": {},
   "outputs": [
    {
     "name": "stdout",
     "output_type": "stream",
     "text": [
      "__________________________________________________________________________________________________\n",
      "Layer (type)                    Output Shape         Param #     Connected to                     \n",
      "==================================================================================================\n",
      "Item (InputLayer)               (None, 1)            0                                            \n",
      "__________________________________________________________________________________________________\n",
      "User (InputLayer)               (None, 1)            0                                            \n",
      "__________________________________________________________________________________________________\n",
      "Movie-Embedding-MLP (Embedding) (None, 1, 8)         8768        Item[0][0]                       \n",
      "__________________________________________________________________________________________________\n",
      "User-Embedding-MLP (Embedding)  (None, 1, 5)         1715        User[0][0]                       \n",
      "__________________________________________________________________________________________________\n",
      "FlattenMovies-MLP (Flatten)     (None, 8)            0           Movie-Embedding-MLP[0][0]        \n",
      "__________________________________________________________________________________________________\n",
      "FlattenUsers-MLP (Flatten)      (None, 5)            0           User-Embedding-MLP[0][0]         \n",
      "__________________________________________________________________________________________________\n",
      "dropout_3 (Dropout)             (None, 8)            0           FlattenMovies-MLP[0][0]          \n",
      "__________________________________________________________________________________________________\n",
      "dropout_5 (Dropout)             (None, 5)            0           FlattenUsers-MLP[0][0]           \n",
      "__________________________________________________________________________________________________\n",
      "Concat (Concatenate)            (None, 13)           0           dropout_3[0][0]                  \n",
      "                                                                 dropout_5[0][0]                  \n",
      "__________________________________________________________________________________________________\n",
      "dropout_7 (Dropout)             (None, 13)           0           Concat[0][0]                     \n",
      "__________________________________________________________________________________________________\n",
      "FullyConnected (Dense)          (None, 200)          2800        dropout_7[0][0]                  \n",
      "__________________________________________________________________________________________________\n",
      "Batch (BatchNormalization)      (None, 200)          800         FullyConnected[0][0]             \n",
      "__________________________________________________________________________________________________\n",
      "Dropout-1 (Dropout)             (None, 200)          0           Batch[0][0]                      \n",
      "__________________________________________________________________________________________________\n",
      "FullyConnected-1 (Dense)        (None, 100)          20100       Dropout-1[0][0]                  \n",
      "__________________________________________________________________________________________________\n",
      "Batch-2 (BatchNormalization)    (None, 100)          400         FullyConnected-1[0][0]           \n",
      "__________________________________________________________________________________________________\n",
      "Movie-Embedding-MF (Embedding)  (None, 1, 3)         3288        Item[0][0]                       \n",
      "__________________________________________________________________________________________________\n",
      "User-Embedding-MF (Embedding)   (None, 1, 3)         1029        User[0][0]                       \n",
      "__________________________________________________________________________________________________\n",
      "Dropout-2 (Dropout)             (None, 100)          0           Batch-2[0][0]                    \n",
      "__________________________________________________________________________________________________\n",
      "FlattenMovies-MF (Flatten)      (None, 3)            0           Movie-Embedding-MF[0][0]         \n",
      "__________________________________________________________________________________________________\n",
      "FlattenUsers-MF (Flatten)       (None, 3)            0           User-Embedding-MF[0][0]          \n",
      "__________________________________________________________________________________________________\n",
      "FullyConnected-2 (Dense)        (None, 50)           5050        Dropout-2[0][0]                  \n",
      "__________________________________________________________________________________________________\n",
      "dropout_4 (Dropout)             (None, 3)            0           FlattenMovies-MF[0][0]           \n",
      "__________________________________________________________________________________________________\n",
      "dropout_6 (Dropout)             (None, 3)            0           FlattenUsers-MF[0][0]            \n",
      "__________________________________________________________________________________________________\n",
      "FullyConnected-3 (Dense)        (None, 20)           1020        FullyConnected-2[0][0]           \n",
      "__________________________________________________________________________________________________\n",
      "Dot (Dot)                       (None, 1)            0           dropout_4[0][0]                  \n",
      "                                                                 dropout_6[0][0]                  \n",
      "__________________________________________________________________________________________________\n",
      "Activation (Dense)              (None, 1)            21          FullyConnected-3[0][0]           \n",
      "__________________________________________________________________________________________________\n",
      "Concat-MF-MLP (Concatenate)     (None, 2)            0           Dot[0][0]                        \n",
      "                                                                 Activation[0][0]                 \n",
      "__________________________________________________________________________________________________\n",
      "Combine-MF-MLP (Dense)          (None, 100)          300         Concat-MF-MLP[0][0]              \n",
      "__________________________________________________________________________________________________\n",
      "FullyConnected-4 (Dense)        (None, 100)          10100       Combine-MF-MLP[0][0]             \n",
      "__________________________________________________________________________________________________\n",
      "Prediction (Dense)              (None, 1)            101         FullyConnected-4[0][0]           \n",
      "==================================================================================================\n",
      "Total params: 55,492\n",
      "Trainable params: 54,892\n",
      "Non-trainable params: 600\n",
      "__________________________________________________________________________________________________\n",
      "0.9154545454545454\n",
      "0.9504014509916305\n"
     ]
    }
   ],
   "source": [
    "import keras\n",
    "from keras.models import Model\n",
    "n_latent_factors_user = 5\n",
    "n_latent_factors_movie = 8\n",
    "n_latent_factors_mf = 3\n",
    "n_users, n_movies = len(dataset.user_id.unique()), len(dataset.item_id.unique())\n",
    "\n",
    "movie_input = keras.layers.Input(shape=[1],name='Item')\n",
    "movie_embedding_mlp = keras.layers.Embedding(n_movies + 1, n_latent_factors_movie, name='Movie-Embedding-MLP')(movie_input)\n",
    "movie_vec_mlp = keras.layers.Flatten(name='FlattenMovies-MLP')(movie_embedding_mlp)\n",
    "movie_vec_mlp = keras.layers.Dropout(0.2)(movie_vec_mlp)\n",
    "\n",
    "movie_embedding_mf = keras.layers.Embedding(n_movies + 1, n_latent_factors_mf, name='Movie-Embedding-MF')(movie_input)\n",
    "movie_vec_mf = keras.layers.Flatten(name='FlattenMovies-MF')(movie_embedding_mf)\n",
    "movie_vec_mf = keras.layers.Dropout(0.2)(movie_vec_mf)\n",
    "\n",
    "\n",
    "user_input = keras.layers.Input(shape=[1],name='User')\n",
    "user_vec_mlp = keras.layers.Flatten(name='FlattenUsers-MLP')(keras.layers.Embedding(n_users + 1, n_latent_factors_user,name='User-Embedding-MLP')(user_input))\n",
    "user_vec_mlp = keras.layers.Dropout(0.2)(user_vec_mlp)\n",
    "\n",
    "user_vec_mf = keras.layers.Flatten(name='FlattenUsers-MF')(keras.layers.Embedding(n_users + 1, n_latent_factors_mf,name='User-Embedding-MF')(user_input))\n",
    "user_vec_mf = keras.layers.Dropout(0.2)(user_vec_mf)\n",
    "\n",
    "from keras.layers import concatenate\n",
    "concat = concatenate([movie_vec_mlp, user_vec_mlp], name='Concat')\n",
    "concat_dropout = keras.layers.Dropout(0.2)(concat)\n",
    "dense = keras.layers.Dense(200,name='FullyConnected')(concat_dropout)\n",
    "dense_batch = keras.layers.BatchNormalization(name='Batch')(dense)\n",
    "dropout_1 = keras.layers.Dropout(0.2,name='Dropout-1')(dense_batch)\n",
    "dense_2 = keras.layers.Dense(100,name='FullyConnected-1')(dropout_1)\n",
    "dense_batch_2 = keras.layers.BatchNormalization(name='Batch-2')(dense_2)\n",
    "\n",
    "\n",
    "dropout_2 = keras.layers.Dropout(0.2,name='Dropout-2')(dense_batch_2)\n",
    "dense_3 = keras.layers.Dense(50,name='FullyConnected-2')(dropout_2)\n",
    "dense_4 = keras.layers.Dense(20,name='FullyConnected-3', activation='relu')(dense_3)\n",
    "\n",
    "pred_mf = keras.layers.dot([movie_vec_mf, user_vec_mf], name='Dot',  axes=1)\n",
    "#keras.layers.dot([movie_vec, user_vec], axes=1, normalize=False, name='DotProduct')\n",
    "\n",
    "pred_mlp = keras.layers.Dense(1, activation='relu',name='Activation')(dense_4)\n",
    "\n",
    "combine_mlp_mf = keras.layers.concatenate([pred_mf, pred_mlp],name='Concat-MF-MLP')\n",
    "\n",
    "result_combine = keras.layers.Dense(100,name='Combine-MF-MLP')(combine_mlp_mf)\n",
    "deep_combine = keras.layers.Dense(100,name='FullyConnected-4')(result_combine)\n",
    "\n",
    "\n",
    "result = keras.layers.Dense(1,name='Prediction')(deep_combine)\n",
    "\n",
    "\n",
    "model = Model([user_input, movie_input], result)\n",
    "opt = keras.optimizers.Adam(lr =0.01)\n",
    "model.compile(optimizer='adam',loss= 'mean_absolute_error')\n",
    "model.summary()\n",
    "\n",
    "history = model.fit([train.user_id, train.item_id], train.rating, epochs=50, verbose=0, validation_split=0.1)\n",
    "\n",
    "from sklearn.metrics import mean_absolute_error\n",
    "y_hat_2 = np.round(model.predict([test.user_id, test.item_id]),0)\n",
    "print(mean_absolute_error(y_true, y_hat_2))\n",
    "\n",
    "print(mean_absolute_error(y_true, model.predict([test.user_id, test.item_id])))"
   ]
  },
  {
   "cell_type": "code",
   "execution_count": 83,
   "metadata": {},
   "outputs": [
    {
     "name": "stdout",
     "output_type": "stream",
     "text": [
      "0.9272727272727272\n"
     ]
    },
    {
     "data": {
      "image/png": "[encoded data removed]",
      "text/plain": [
       "<Figure size 432x288 with 1 Axes>"
      ]
     },
     "metadata": {
      "needs_background": "light"
     },
     "output_type": "display_data"
    }
   ],
   "source": [
    "history=model.fit([train.user_id,train.item_id], train.rating,validation_split=0.2 ,epochs=50, verbose=0)\n",
    "y_vloss=history.history[\"val_loss\"]\n",
    "y_loss=history.history[\"loss\"]\n",
    "\n",
    "x_len=np.arange(len(y_loss))\n",
    "plt.plot(x_len,y_vloss,marker=\".\", c=\"red\", label=\"Validation-set loss\")\n",
    "plt.plot(x_len,y_loss,marker=\".\", c=\"blue\", label=\"Train-set loss\")\n",
    "\n",
    "\n",
    "plt.legend(loc=\"upper right\")\n",
    "plt.grid()\n",
    "plt.xlabel(\"epoch\")\n",
    "plt.ylabel(\"loss\")\n",
    "\n",
    "y_hat=np.round(model.predict([test.user_id, test.item_id]),0)\n",
    "y_true=test.rating\n",
    "from sklearn.metrics import mean_absolute_error\n",
    "print(mean_absolute_error(y_true,y_hat))"
   ]
  },
  {
   "cell_type": "code",
   "execution_count": null,
   "metadata": {},
   "outputs": [],
   "source": []
  }
 ],
 "metadata": {
  "kernelspec": {
   "display_name": "Python 3",
   "language": "python",
   "name": "python3"
  },
  "language_info": {
   "codemirror_mode": {
    "name": "ipython",
    "version": 3
   },
   "file_extension": ".py",
   "mimetype": "text/x-python",
   "name": "python",
   "nbconvert_exporter": "python",
   "pygments_lexer": "ipython3",
   "version": "3.7.3"
  }
 },
 "nbformat": 4,
 "nbformat_minor": 2
}
